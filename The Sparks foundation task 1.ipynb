{
 "cells": [
  {
   "cell_type": "markdown",
   "id": "b8503a3e",
   "metadata": {},
   "source": [
    "# The Sparks Foundation\n",
    "## Graduate Rotational Internship Program\n",
    "## Data Science and Business Analytics Intern\n",
    "## Name: Nalumasula Susmitha"
   ]
  },
  {
   "cell_type": "markdown",
   "id": "55f66251",
   "metadata": {},
   "source": [
    "## TASK 1: Exploratory Data Analysis - Retail"
   ]
  },
  {
   "cell_type": "markdown",
   "id": "11e42a86",
   "metadata": {},
   "source": [
    "### Importing Libraries"
   ]
  },
  {
   "cell_type": "code",
   "execution_count": 2,
   "id": "9ca15da6",
   "metadata": {},
   "outputs": [],
   "source": [
    "import numpy as np\n",
    "import pandas as pd\n",
    "import matplotlib.pyplot as plt\n",
    "import seaborn as sns"
   ]
  },
  {
   "cell_type": "markdown",
   "id": "3dda6f18",
   "metadata": {},
   "source": [
    "### Loading Dataset and creating a dataframe"
   ]
  },
  {
   "cell_type": "code",
   "execution_count": 132,
   "id": "89dd9fd1",
   "metadata": {},
   "outputs": [
    {
     "data": {
      "text/html": [
       "<div>\n",
       "<style scoped>\n",
       "    .dataframe tbody tr th:only-of-type {\n",
       "        vertical-align: middle;\n",
       "    }\n",
       "\n",
       "    .dataframe tbody tr th {\n",
       "        vertical-align: top;\n",
       "    }\n",
       "\n",
       "    .dataframe thead th {\n",
       "        text-align: right;\n",
       "    }\n",
       "</style>\n",
       "<table border=\"1\" class=\"dataframe\">\n",
       "  <thead>\n",
       "    <tr style=\"text-align: right;\">\n",
       "      <th></th>\n",
       "      <th>Ship Mode</th>\n",
       "      <th>Segment</th>\n",
       "      <th>Country</th>\n",
       "      <th>City</th>\n",
       "      <th>State</th>\n",
       "      <th>Postal Code</th>\n",
       "      <th>Region</th>\n",
       "      <th>Category</th>\n",
       "      <th>Sub-Category</th>\n",
       "      <th>Sales</th>\n",
       "      <th>Quantity</th>\n",
       "      <th>Discount</th>\n",
       "      <th>Profit</th>\n",
       "    </tr>\n",
       "  </thead>\n",
       "  <tbody>\n",
       "    <tr>\n",
       "      <th>0</th>\n",
       "      <td>Second Class</td>\n",
       "      <td>Consumer</td>\n",
       "      <td>United States</td>\n",
       "      <td>Henderson</td>\n",
       "      <td>Kentucky</td>\n",
       "      <td>42420</td>\n",
       "      <td>South</td>\n",
       "      <td>Furniture</td>\n",
       "      <td>Bookcases</td>\n",
       "      <td>261.9600</td>\n",
       "      <td>2</td>\n",
       "      <td>0.00</td>\n",
       "      <td>41.9136</td>\n",
       "    </tr>\n",
       "    <tr>\n",
       "      <th>1</th>\n",
       "      <td>Second Class</td>\n",
       "      <td>Consumer</td>\n",
       "      <td>United States</td>\n",
       "      <td>Henderson</td>\n",
       "      <td>Kentucky</td>\n",
       "      <td>42420</td>\n",
       "      <td>South</td>\n",
       "      <td>Furniture</td>\n",
       "      <td>Chairs</td>\n",
       "      <td>731.9400</td>\n",
       "      <td>3</td>\n",
       "      <td>0.00</td>\n",
       "      <td>219.5820</td>\n",
       "    </tr>\n",
       "    <tr>\n",
       "      <th>2</th>\n",
       "      <td>Second Class</td>\n",
       "      <td>Corporate</td>\n",
       "      <td>United States</td>\n",
       "      <td>Los Angeles</td>\n",
       "      <td>California</td>\n",
       "      <td>90036</td>\n",
       "      <td>West</td>\n",
       "      <td>Office Supplies</td>\n",
       "      <td>Labels</td>\n",
       "      <td>14.6200</td>\n",
       "      <td>2</td>\n",
       "      <td>0.00</td>\n",
       "      <td>6.8714</td>\n",
       "    </tr>\n",
       "    <tr>\n",
       "      <th>3</th>\n",
       "      <td>Standard Class</td>\n",
       "      <td>Consumer</td>\n",
       "      <td>United States</td>\n",
       "      <td>Fort Lauderdale</td>\n",
       "      <td>Florida</td>\n",
       "      <td>33311</td>\n",
       "      <td>South</td>\n",
       "      <td>Furniture</td>\n",
       "      <td>Tables</td>\n",
       "      <td>957.5775</td>\n",
       "      <td>5</td>\n",
       "      <td>0.45</td>\n",
       "      <td>-383.0310</td>\n",
       "    </tr>\n",
       "    <tr>\n",
       "      <th>4</th>\n",
       "      <td>Standard Class</td>\n",
       "      <td>Consumer</td>\n",
       "      <td>United States</td>\n",
       "      <td>Fort Lauderdale</td>\n",
       "      <td>Florida</td>\n",
       "      <td>33311</td>\n",
       "      <td>South</td>\n",
       "      <td>Office Supplies</td>\n",
       "      <td>Storage</td>\n",
       "      <td>22.3680</td>\n",
       "      <td>2</td>\n",
       "      <td>0.20</td>\n",
       "      <td>2.5164</td>\n",
       "    </tr>\n",
       "  </tbody>\n",
       "</table>\n",
       "</div>"
      ],
      "text/plain": [
       "        Ship Mode    Segment        Country             City       State  \\\n",
       "0    Second Class   Consumer  United States        Henderson    Kentucky   \n",
       "1    Second Class   Consumer  United States        Henderson    Kentucky   \n",
       "2    Second Class  Corporate  United States      Los Angeles  California   \n",
       "3  Standard Class   Consumer  United States  Fort Lauderdale     Florida   \n",
       "4  Standard Class   Consumer  United States  Fort Lauderdale     Florida   \n",
       "\n",
       "   Postal Code Region         Category Sub-Category     Sales  Quantity  \\\n",
       "0        42420  South        Furniture    Bookcases  261.9600         2   \n",
       "1        42420  South        Furniture       Chairs  731.9400         3   \n",
       "2        90036   West  Office Supplies       Labels   14.6200         2   \n",
       "3        33311  South        Furniture       Tables  957.5775         5   \n",
       "4        33311  South  Office Supplies      Storage   22.3680         2   \n",
       "\n",
       "   Discount    Profit  \n",
       "0      0.00   41.9136  \n",
       "1      0.00  219.5820  \n",
       "2      0.00    6.8714  \n",
       "3      0.45 -383.0310  \n",
       "4      0.20    2.5164  "
      ]
     },
     "execution_count": 132,
     "metadata": {},
     "output_type": "execute_result"
    }
   ],
   "source": [
    "df=pd.read_csv('Downloads/SampleSuperstore.csv')\n",
    "df.head()"
   ]
  },
  {
   "cell_type": "markdown",
   "id": "924958c4",
   "metadata": {},
   "source": [
    "### Exploring the Data"
   ]
  },
  {
   "cell_type": "code",
   "execution_count": 4,
   "id": "020c2e50",
   "metadata": {},
   "outputs": [
    {
     "data": {
      "text/plain": [
       "(9994, 13)"
      ]
     },
     "execution_count": 4,
     "metadata": {},
     "output_type": "execute_result"
    }
   ],
   "source": [
    "df.shape"
   ]
  },
  {
   "cell_type": "markdown",
   "id": "40546461",
   "metadata": {},
   "source": [
    "#### The data frame has 9994 rows and 13 columns."
   ]
  },
  {
   "cell_type": "code",
   "execution_count": 8,
   "id": "27c57015",
   "metadata": {},
   "outputs": [
    {
     "data": {
      "text/plain": [
       "Index(['Ship Mode', 'Segment', 'Country', 'City', 'State', 'Postal Code',\n",
       "       'Region', 'Category', 'Sub-Category', 'Sales', 'Quantity', 'Discount',\n",
       "       'Profit'],\n",
       "      dtype='object')"
      ]
     },
     "execution_count": 8,
     "metadata": {},
     "output_type": "execute_result"
    }
   ],
   "source": [
    "df.columns"
   ]
  },
  {
   "cell_type": "markdown",
   "id": "d5cd0d11",
   "metadata": {},
   "source": [
    "#### These are the columns present in the dataframe"
   ]
  },
  {
   "cell_type": "code",
   "execution_count": 9,
   "id": "06c52054",
   "metadata": {},
   "outputs": [
    {
     "name": "stdout",
     "output_type": "stream",
     "text": [
      "<class 'pandas.core.frame.DataFrame'>\n",
      "RangeIndex: 9994 entries, 0 to 9993\n",
      "Data columns (total 13 columns):\n",
      " #   Column        Non-Null Count  Dtype  \n",
      "---  ------        --------------  -----  \n",
      " 0   Ship Mode     9994 non-null   object \n",
      " 1   Segment       9994 non-null   object \n",
      " 2   Country       9994 non-null   object \n",
      " 3   City          9994 non-null   object \n",
      " 4   State         9994 non-null   object \n",
      " 5   Postal Code   9994 non-null   int64  \n",
      " 6   Region        9994 non-null   object \n",
      " 7   Category      9994 non-null   object \n",
      " 8   Sub-Category  9994 non-null   object \n",
      " 9   Sales         9994 non-null   float64\n",
      " 10  Quantity      9994 non-null   int64  \n",
      " 11  Discount      9994 non-null   float64\n",
      " 12  Profit        9994 non-null   float64\n",
      "dtypes: float64(3), int64(2), object(8)\n",
      "memory usage: 1015.1+ KB\n"
     ]
    }
   ],
   "source": [
    " df.info()"
   ]
  },
  {
   "cell_type": "markdown",
   "id": "07287fd6",
   "metadata": {},
   "source": [
    "### Data Cleaning"
   ]
  },
  {
   "cell_type": "code",
   "execution_count": 10,
   "id": "188d8b2e",
   "metadata": {},
   "outputs": [
    {
     "data": {
      "text/plain": [
       "Ship Mode       0\n",
       "Segment         0\n",
       "Country         0\n",
       "City            0\n",
       "State           0\n",
       "Postal Code     0\n",
       "Region          0\n",
       "Category        0\n",
       "Sub-Category    0\n",
       "Sales           0\n",
       "Quantity        0\n",
       "Discount        0\n",
       "Profit          0\n",
       "dtype: int64"
      ]
     },
     "execution_count": 10,
     "metadata": {},
     "output_type": "execute_result"
    }
   ],
   "source": [
    "# Checking for null values\n",
    "df.isnull().sum()"
   ]
  },
  {
   "cell_type": "markdown",
   "id": "be3006b6",
   "metadata": {},
   "source": [
    "#### We can see that there are no null values in the entire data frame.\n"
   ]
  },
  {
   "cell_type": "code",
   "execution_count": 46,
   "id": "f0ed0bfe",
   "metadata": {},
   "outputs": [
    {
     "data": {
      "text/plain": [
       "17"
      ]
     },
     "execution_count": 46,
     "metadata": {},
     "output_type": "execute_result"
    }
   ],
   "source": [
    "#To find the number of duplicate values\n",
    "df.duplicated().sum()"
   ]
  },
  {
   "cell_type": "markdown",
   "id": "b5aca38c",
   "metadata": {},
   "source": [
    "#### There are 17 duplicate values in the dataframe"
   ]
  },
  {
   "cell_type": "code",
   "execution_count": 78,
   "id": "4cc754bf",
   "metadata": {},
   "outputs": [],
   "source": [
    "#To remove the duplicate values\n",
    "df.drop_duplicates(inplace=True)"
   ]
  },
  {
   "cell_type": "code",
   "execution_count": 79,
   "id": "5d551ce4",
   "metadata": {},
   "outputs": [
    {
     "data": {
      "text/plain": [
       "0"
      ]
     },
     "execution_count": 79,
     "metadata": {},
     "output_type": "execute_result"
    }
   ],
   "source": [
    "df.duplicated().sum()"
   ]
  },
  {
   "cell_type": "markdown",
   "id": "701b1cb0",
   "metadata": {},
   "source": [
    "#### All duplicate values are removed"
   ]
  },
  {
   "cell_type": "markdown",
   "id": "3634bee0",
   "metadata": {},
   "source": [
    "### Analyzing the Data"
   ]
  },
  {
   "cell_type": "code",
   "execution_count": 50,
   "id": "3e91df54",
   "metadata": {},
   "outputs": [
    {
     "data": {
      "text/plain": [
       "array(['South', 'West', 'Central', 'East'], dtype=object)"
      ]
     },
     "execution_count": 50,
     "metadata": {},
     "output_type": "execute_result"
    }
   ],
   "source": [
    "# To see the unique regions in the data frame\n",
    "df['Region'].unique()"
   ]
  },
  {
   "cell_type": "code",
   "execution_count": 53,
   "id": "2fd49cba",
   "metadata": {},
   "outputs": [
    {
     "data": {
      "text/plain": [
       "array(['Furniture', 'Office Supplies', 'Technology'], dtype=object)"
      ]
     },
     "execution_count": 53,
     "metadata": {},
     "output_type": "execute_result"
    }
   ],
   "source": [
    "# To see all the categories in the dataframe\n",
    "df['Category'].unique()"
   ]
  },
  {
   "cell_type": "code",
   "execution_count": 81,
   "id": "cfb7e279",
   "metadata": {},
   "outputs": [
    {
     "data": {
      "text/plain": [
       "array(['Kentucky', 'California', 'Florida', 'North Carolina',\n",
       "       'Washington', 'Texas', 'Wisconsin', 'Utah', 'Nebraska',\n",
       "       'Pennsylvania', 'Illinois', 'Minnesota', 'Michigan', 'Delaware',\n",
       "       'Indiana', 'New York', 'Arizona', 'Virginia', 'Tennessee',\n",
       "       'Alabama', 'South Carolina', 'Oregon', 'Colorado', 'Iowa', 'Ohio',\n",
       "       'Missouri', 'Oklahoma', 'New Mexico', 'Louisiana', 'Connecticut',\n",
       "       'New Jersey', 'Massachusetts', 'Georgia', 'Nevada', 'Rhode Island',\n",
       "       'Mississippi', 'Arkansas', 'Montana', 'New Hampshire', 'Maryland',\n",
       "       'District of Columbia', 'Kansas', 'Vermont', 'Maine',\n",
       "       'South Dakota', 'Idaho', 'North Dakota', 'Wyoming',\n",
       "       'West Virginia'], dtype=object)"
      ]
     },
     "execution_count": 81,
     "metadata": {},
     "output_type": "execute_result"
    }
   ],
   "source": [
    "df['State'].unique()"
   ]
  },
  {
   "cell_type": "code",
   "execution_count": 96,
   "id": "e7761626",
   "metadata": {},
   "outputs": [
    {
     "name": "stdout",
     "output_type": "stream",
     "text": [
      "There are 49 states in this dataframe\n"
     ]
    }
   ],
   "source": [
    "no_of_states=df['State'].nunique()\n",
    "print('There are %d states in this dataframe'%no_of_states)"
   ]
  },
  {
   "cell_type": "code",
   "execution_count": 93,
   "id": "bf01947a",
   "metadata": {},
   "outputs": [
    {
     "data": {
      "text/plain": [
       "array(['Bookcases', 'Chairs', 'Labels', 'Tables', 'Storage',\n",
       "       'Furnishings', 'Art', 'Phones', 'Binders', 'Appliances', 'Paper',\n",
       "       'Accessories', 'Envelopes', 'Fasteners', 'Supplies', 'Machines',\n",
       "       'Copiers'], dtype=object)"
      ]
     },
     "execution_count": 93,
     "metadata": {},
     "output_type": "execute_result"
    }
   ],
   "source": [
    "# To see all the Sub-Categories in the dataframe\n",
    "df['Sub-Category'].unique()"
   ]
  },
  {
   "cell_type": "code",
   "execution_count": 98,
   "id": "4a83c707",
   "metadata": {},
   "outputs": [
    {
     "name": "stdout",
     "output_type": "stream",
     "text": [
      "There are 17 Sub-Categories in this dataframe\n"
     ]
    }
   ],
   "source": [
    "no_of_subcategories=df['Sub-Category'].nunique()\n",
    "print('There are %d Sub-Categories in this dataframe'%no_of_subcategories)"
   ]
  },
  {
   "cell_type": "code",
   "execution_count": 99,
   "id": "9ab70564",
   "metadata": {},
   "outputs": [
    {
     "data": {
      "text/plain": [
       "array(['Consumer', 'Corporate', 'Home Office'], dtype=object)"
      ]
     },
     "execution_count": 99,
     "metadata": {},
     "output_type": "execute_result"
    }
   ],
   "source": [
    "df['Segment'].unique()"
   ]
  },
  {
   "cell_type": "code",
   "execution_count": 152,
   "id": "45d673d1",
   "metadata": {},
   "outputs": [
    {
     "data": {
      "text/html": [
       "<div>\n",
       "<style scoped>\n",
       "    .dataframe tbody tr th:only-of-type {\n",
       "        vertical-align: middle;\n",
       "    }\n",
       "\n",
       "    .dataframe tbody tr th {\n",
       "        vertical-align: top;\n",
       "    }\n",
       "\n",
       "    .dataframe thead th {\n",
       "        text-align: right;\n",
       "    }\n",
       "</style>\n",
       "<table border=\"1\" class=\"dataframe\">\n",
       "  <thead>\n",
       "    <tr style=\"text-align: right;\">\n",
       "      <th></th>\n",
       "      <th>Sales</th>\n",
       "      <th>Quantity</th>\n",
       "      <th>Discount</th>\n",
       "      <th>Profit</th>\n",
       "    </tr>\n",
       "    <tr>\n",
       "      <th>Region</th>\n",
       "      <th></th>\n",
       "      <th></th>\n",
       "      <th></th>\n",
       "      <th></th>\n",
       "    </tr>\n",
       "  </thead>\n",
       "  <tbody>\n",
       "    <tr>\n",
       "      <th>Central</th>\n",
       "      <td>501239.8908</td>\n",
       "      <td>8780</td>\n",
       "      <td>558.34</td>\n",
       "      <td>39706.3625</td>\n",
       "    </tr>\n",
       "    <tr>\n",
       "      <th>East</th>\n",
       "      <td>678781.2400</td>\n",
       "      <td>10618</td>\n",
       "      <td>414.00</td>\n",
       "      <td>91522.7800</td>\n",
       "    </tr>\n",
       "    <tr>\n",
       "      <th>South</th>\n",
       "      <td>391721.9050</td>\n",
       "      <td>6209</td>\n",
       "      <td>238.55</td>\n",
       "      <td>46749.4303</td>\n",
       "    </tr>\n",
       "    <tr>\n",
       "      <th>West</th>\n",
       "      <td>725457.8245</td>\n",
       "      <td>12266</td>\n",
       "      <td>350.20</td>\n",
       "      <td>108418.4489</td>\n",
       "    </tr>\n",
       "  </tbody>\n",
       "</table>\n",
       "</div>"
      ],
      "text/plain": [
       "               Sales  Quantity  Discount       Profit\n",
       "Region                                               \n",
       "Central  501239.8908      8780    558.34   39706.3625\n",
       "East     678781.2400     10618    414.00   91522.7800\n",
       "South    391721.9050      6209    238.55   46749.4303\n",
       "West     725457.8245     12266    350.20  108418.4489"
      ]
     },
     "execution_count": 152,
     "metadata": {},
     "output_type": "execute_result"
    }
   ],
   "source": [
    "df.groupby('Region').sum()"
   ]
  },
  {
   "cell_type": "markdown",
   "id": "a78eb6a0",
   "metadata": {},
   "source": [
    "#### Sales are very less in south region."
   ]
  },
  {
   "cell_type": "code",
   "execution_count": 101,
   "id": "156d90f2",
   "metadata": {},
   "outputs": [
    {
     "data": {
      "text/html": [
       "<div>\n",
       "<style scoped>\n",
       "    .dataframe tbody tr th:only-of-type {\n",
       "        vertical-align: middle;\n",
       "    }\n",
       "\n",
       "    .dataframe tbody tr th {\n",
       "        vertical-align: top;\n",
       "    }\n",
       "\n",
       "    .dataframe thead th {\n",
       "        text-align: right;\n",
       "    }\n",
       "</style>\n",
       "<table border=\"1\" class=\"dataframe\">\n",
       "  <thead>\n",
       "    <tr style=\"text-align: right;\">\n",
       "      <th></th>\n",
       "      <th>Postal Code</th>\n",
       "      <th>Sales</th>\n",
       "      <th>Quantity</th>\n",
       "      <th>Discount</th>\n",
       "      <th>Profit</th>\n",
       "    </tr>\n",
       "  </thead>\n",
       "  <tbody>\n",
       "    <tr>\n",
       "      <th>count</th>\n",
       "      <td>9977.000000</td>\n",
       "      <td>9977.000000</td>\n",
       "      <td>9977.000000</td>\n",
       "      <td>9977.000000</td>\n",
       "      <td>9977.00000</td>\n",
       "    </tr>\n",
       "    <tr>\n",
       "      <th>mean</th>\n",
       "      <td>55154.964117</td>\n",
       "      <td>230.148902</td>\n",
       "      <td>3.790719</td>\n",
       "      <td>0.156278</td>\n",
       "      <td>28.69013</td>\n",
       "    </tr>\n",
       "    <tr>\n",
       "      <th>std</th>\n",
       "      <td>32058.266816</td>\n",
       "      <td>623.721409</td>\n",
       "      <td>2.226657</td>\n",
       "      <td>0.206455</td>\n",
       "      <td>234.45784</td>\n",
       "    </tr>\n",
       "    <tr>\n",
       "      <th>min</th>\n",
       "      <td>1040.000000</td>\n",
       "      <td>0.444000</td>\n",
       "      <td>1.000000</td>\n",
       "      <td>0.000000</td>\n",
       "      <td>-6599.97800</td>\n",
       "    </tr>\n",
       "    <tr>\n",
       "      <th>25%</th>\n",
       "      <td>23223.000000</td>\n",
       "      <td>17.300000</td>\n",
       "      <td>2.000000</td>\n",
       "      <td>0.000000</td>\n",
       "      <td>1.72620</td>\n",
       "    </tr>\n",
       "    <tr>\n",
       "      <th>50%</th>\n",
       "      <td>55901.000000</td>\n",
       "      <td>54.816000</td>\n",
       "      <td>3.000000</td>\n",
       "      <td>0.200000</td>\n",
       "      <td>8.67100</td>\n",
       "    </tr>\n",
       "    <tr>\n",
       "      <th>75%</th>\n",
       "      <td>90008.000000</td>\n",
       "      <td>209.970000</td>\n",
       "      <td>5.000000</td>\n",
       "      <td>0.200000</td>\n",
       "      <td>29.37200</td>\n",
       "    </tr>\n",
       "    <tr>\n",
       "      <th>max</th>\n",
       "      <td>99301.000000</td>\n",
       "      <td>22638.480000</td>\n",
       "      <td>14.000000</td>\n",
       "      <td>0.800000</td>\n",
       "      <td>8399.97600</td>\n",
       "    </tr>\n",
       "  </tbody>\n",
       "</table>\n",
       "</div>"
      ],
      "text/plain": [
       "        Postal Code         Sales     Quantity     Discount      Profit\n",
       "count   9977.000000   9977.000000  9977.000000  9977.000000  9977.00000\n",
       "mean   55154.964117    230.148902     3.790719     0.156278    28.69013\n",
       "std    32058.266816    623.721409     2.226657     0.206455   234.45784\n",
       "min     1040.000000      0.444000     1.000000     0.000000 -6599.97800\n",
       "25%    23223.000000     17.300000     2.000000     0.000000     1.72620\n",
       "50%    55901.000000     54.816000     3.000000     0.200000     8.67100\n",
       "75%    90008.000000    209.970000     5.000000     0.200000    29.37200\n",
       "max    99301.000000  22638.480000    14.000000     0.800000  8399.97600"
      ]
     },
     "execution_count": 101,
     "metadata": {},
     "output_type": "execute_result"
    }
   ],
   "source": [
    "# To view statistical description of the dataset\n",
    "df.describe()"
   ]
  },
  {
   "cell_type": "code",
   "execution_count": 106,
   "id": "69a064ae",
   "metadata": {},
   "outputs": [
    {
     "data": {
      "text/html": [
       "<div>\n",
       "<style scoped>\n",
       "    .dataframe tbody tr th:only-of-type {\n",
       "        vertical-align: middle;\n",
       "    }\n",
       "\n",
       "    .dataframe tbody tr th {\n",
       "        vertical-align: top;\n",
       "    }\n",
       "\n",
       "    .dataframe thead th {\n",
       "        text-align: right;\n",
       "    }\n",
       "</style>\n",
       "<table border=\"1\" class=\"dataframe\">\n",
       "  <thead>\n",
       "    <tr style=\"text-align: right;\">\n",
       "      <th></th>\n",
       "      <th>Ship Mode</th>\n",
       "      <th>Segment</th>\n",
       "      <th>Country</th>\n",
       "      <th>City</th>\n",
       "      <th>State</th>\n",
       "      <th>Postal Code</th>\n",
       "      <th>Region</th>\n",
       "      <th>Category</th>\n",
       "      <th>Sub-Category</th>\n",
       "      <th>Sales</th>\n",
       "      <th>Quantity</th>\n",
       "      <th>Discount</th>\n",
       "      <th>Profit</th>\n",
       "    </tr>\n",
       "  </thead>\n",
       "  <tbody>\n",
       "    <tr>\n",
       "      <th>3</th>\n",
       "      <td>Standard Class</td>\n",
       "      <td>Consumer</td>\n",
       "      <td>United States</td>\n",
       "      <td>Fort Lauderdale</td>\n",
       "      <td>Florida</td>\n",
       "      <td>33311</td>\n",
       "      <td>South</td>\n",
       "      <td>Furniture</td>\n",
       "      <td>Tables</td>\n",
       "      <td>957.5775</td>\n",
       "      <td>5</td>\n",
       "      <td>0.45</td>\n",
       "      <td>-383.0310</td>\n",
       "    </tr>\n",
       "    <tr>\n",
       "      <th>14</th>\n",
       "      <td>Standard Class</td>\n",
       "      <td>Home Office</td>\n",
       "      <td>United States</td>\n",
       "      <td>Fort Worth</td>\n",
       "      <td>Texas</td>\n",
       "      <td>76106</td>\n",
       "      <td>Central</td>\n",
       "      <td>Office Supplies</td>\n",
       "      <td>Appliances</td>\n",
       "      <td>68.8100</td>\n",
       "      <td>5</td>\n",
       "      <td>0.80</td>\n",
       "      <td>-123.8580</td>\n",
       "    </tr>\n",
       "    <tr>\n",
       "      <th>15</th>\n",
       "      <td>Standard Class</td>\n",
       "      <td>Home Office</td>\n",
       "      <td>United States</td>\n",
       "      <td>Fort Worth</td>\n",
       "      <td>Texas</td>\n",
       "      <td>76106</td>\n",
       "      <td>Central</td>\n",
       "      <td>Office Supplies</td>\n",
       "      <td>Binders</td>\n",
       "      <td>2.5440</td>\n",
       "      <td>3</td>\n",
       "      <td>0.80</td>\n",
       "      <td>-3.8160</td>\n",
       "    </tr>\n",
       "    <tr>\n",
       "      <th>23</th>\n",
       "      <td>Second Class</td>\n",
       "      <td>Consumer</td>\n",
       "      <td>United States</td>\n",
       "      <td>Philadelphia</td>\n",
       "      <td>Pennsylvania</td>\n",
       "      <td>19140</td>\n",
       "      <td>East</td>\n",
       "      <td>Furniture</td>\n",
       "      <td>Chairs</td>\n",
       "      <td>71.3720</td>\n",
       "      <td>2</td>\n",
       "      <td>0.30</td>\n",
       "      <td>-1.0196</td>\n",
       "    </tr>\n",
       "    <tr>\n",
       "      <th>27</th>\n",
       "      <td>Standard Class</td>\n",
       "      <td>Consumer</td>\n",
       "      <td>United States</td>\n",
       "      <td>Philadelphia</td>\n",
       "      <td>Pennsylvania</td>\n",
       "      <td>19140</td>\n",
       "      <td>East</td>\n",
       "      <td>Furniture</td>\n",
       "      <td>Bookcases</td>\n",
       "      <td>3083.4300</td>\n",
       "      <td>7</td>\n",
       "      <td>0.50</td>\n",
       "      <td>-1665.0522</td>\n",
       "    </tr>\n",
       "  </tbody>\n",
       "</table>\n",
       "</div>"
      ],
      "text/plain": [
       "         Ship Mode      Segment        Country             City         State  \\\n",
       "3   Standard Class     Consumer  United States  Fort Lauderdale       Florida   \n",
       "14  Standard Class  Home Office  United States       Fort Worth         Texas   \n",
       "15  Standard Class  Home Office  United States       Fort Worth         Texas   \n",
       "23    Second Class     Consumer  United States     Philadelphia  Pennsylvania   \n",
       "27  Standard Class     Consumer  United States     Philadelphia  Pennsylvania   \n",
       "\n",
       "    Postal Code   Region         Category Sub-Category      Sales  Quantity  \\\n",
       "3         33311    South        Furniture       Tables   957.5775         5   \n",
       "14        76106  Central  Office Supplies   Appliances    68.8100         5   \n",
       "15        76106  Central  Office Supplies      Binders     2.5440         3   \n",
       "23        19140     East        Furniture       Chairs    71.3720         2   \n",
       "27        19140     East        Furniture    Bookcases  3083.4300         7   \n",
       "\n",
       "    Discount     Profit  \n",
       "3       0.45  -383.0310  \n",
       "14      0.80  -123.8580  \n",
       "15      0.80    -3.8160  \n",
       "23      0.30    -1.0196  \n",
       "27      0.50 -1665.0522  "
      ]
     },
     "execution_count": 106,
     "metadata": {},
     "output_type": "execute_result"
    }
   ],
   "source": [
    "df[df['Profit']<0].head()"
   ]
  },
  {
   "cell_type": "markdown",
   "id": "69308fa6",
   "metadata": {},
   "source": [
    "#### This is the part of the dataframe where profit is negative."
   ]
  },
  {
   "cell_type": "code",
   "execution_count": 138,
   "id": "6a647b7d",
   "metadata": {},
   "outputs": [],
   "source": [
    "# Postal code column is not useful. So we can remove it\n",
    "df.drop(['Postal Code'],axis=1,inplace=True)"
   ]
  },
  {
   "cell_type": "markdown",
   "id": "96599e41",
   "metadata": {},
   "source": [
    "#### Postal Code column is removed from the dataframe."
   ]
  },
  {
   "cell_type": "code",
   "execution_count": 129,
   "id": "c7887557",
   "metadata": {},
   "outputs": [
    {
     "data": {
      "text/html": [
       "<div>\n",
       "<style scoped>\n",
       "    .dataframe tbody tr th:only-of-type {\n",
       "        vertical-align: middle;\n",
       "    }\n",
       "\n",
       "    .dataframe tbody tr th {\n",
       "        vertical-align: top;\n",
       "    }\n",
       "\n",
       "    .dataframe thead th {\n",
       "        text-align: right;\n",
       "    }\n",
       "</style>\n",
       "<table border=\"1\" class=\"dataframe\">\n",
       "  <thead>\n",
       "    <tr style=\"text-align: right;\">\n",
       "      <th></th>\n",
       "      <th>Sales</th>\n",
       "      <th>Quantity</th>\n",
       "      <th>Discount</th>\n",
       "      <th>Profit</th>\n",
       "    </tr>\n",
       "  </thead>\n",
       "  <tbody>\n",
       "    <tr>\n",
       "      <th>count</th>\n",
       "      <td>1869.000000</td>\n",
       "      <td>1869.000000</td>\n",
       "      <td>1869.000000</td>\n",
       "      <td>1869.000000</td>\n",
       "    </tr>\n",
       "    <tr>\n",
       "      <th>mean</th>\n",
       "      <td>250.627190</td>\n",
       "      <td>3.764045</td>\n",
       "      <td>0.480813</td>\n",
       "      <td>-83.527549</td>\n",
       "    </tr>\n",
       "    <tr>\n",
       "      <th>std</th>\n",
       "      <td>715.426811</td>\n",
       "      <td>2.142032</td>\n",
       "      <td>0.235053</td>\n",
       "      <td>284.565230</td>\n",
       "    </tr>\n",
       "    <tr>\n",
       "      <th>min</th>\n",
       "      <td>0.444000</td>\n",
       "      <td>1.000000</td>\n",
       "      <td>0.100000</td>\n",
       "      <td>-6599.978000</td>\n",
       "    </tr>\n",
       "    <tr>\n",
       "      <th>25%</th>\n",
       "      <td>12.544000</td>\n",
       "      <td>2.000000</td>\n",
       "      <td>0.200000</td>\n",
       "      <td>-58.687200</td>\n",
       "    </tr>\n",
       "    <tr>\n",
       "      <th>50%</th>\n",
       "      <td>71.088000</td>\n",
       "      <td>3.000000</td>\n",
       "      <td>0.400000</td>\n",
       "      <td>-18.106800</td>\n",
       "    </tr>\n",
       "    <tr>\n",
       "      <th>75%</th>\n",
       "      <td>285.480000</td>\n",
       "      <td>5.000000</td>\n",
       "      <td>0.700000</td>\n",
       "      <td>-6.286000</td>\n",
       "    </tr>\n",
       "    <tr>\n",
       "      <th>max</th>\n",
       "      <td>22638.480000</td>\n",
       "      <td>14.000000</td>\n",
       "      <td>0.800000</td>\n",
       "      <td>-0.089500</td>\n",
       "    </tr>\n",
       "  </tbody>\n",
       "</table>\n",
       "</div>"
      ],
      "text/plain": [
       "              Sales     Quantity     Discount       Profit\n",
       "count   1869.000000  1869.000000  1869.000000  1869.000000\n",
       "mean     250.627190     3.764045     0.480813   -83.527549\n",
       "std      715.426811     2.142032     0.235053   284.565230\n",
       "min        0.444000     1.000000     0.100000 -6599.978000\n",
       "25%       12.544000     2.000000     0.200000   -58.687200\n",
       "50%       71.088000     3.000000     0.400000   -18.106800\n",
       "75%      285.480000     5.000000     0.700000    -6.286000\n",
       "max    22638.480000    14.000000     0.800000    -0.089500"
      ]
     },
     "execution_count": 129,
     "metadata": {},
     "output_type": "execute_result"
    }
   ],
   "source": [
    "df[df['Profit']<0].describe()"
   ]
  },
  {
   "cell_type": "markdown",
   "id": "127e2141",
   "metadata": {},
   "source": [
    "#### Statistical discription of the part of the dataset where profit is negative."
   ]
  },
  {
   "cell_type": "code",
   "execution_count": 134,
   "id": "50ce5a54",
   "metadata": {},
   "outputs": [
    {
     "name": "stdout",
     "output_type": "stream",
     "text": [
      "Total Loss = 156131.285700\n"
     ]
    }
   ],
   "source": [
    "Total_loss=np.negative(df[df['Profit']<0]['Profit'].sum())\n",
    "print('Total Loss = %f'%Total_loss)"
   ]
  },
  {
   "cell_type": "code",
   "execution_count": 140,
   "id": "cbc8e302",
   "metadata": {},
   "outputs": [
    {
     "data": {
      "text/html": [
       "<div>\n",
       "<style scoped>\n",
       "    .dataframe tbody tr th:only-of-type {\n",
       "        vertical-align: middle;\n",
       "    }\n",
       "\n",
       "    .dataframe tbody tr th {\n",
       "        vertical-align: top;\n",
       "    }\n",
       "\n",
       "    .dataframe thead th {\n",
       "        text-align: right;\n",
       "    }\n",
       "</style>\n",
       "<table border=\"1\" class=\"dataframe\">\n",
       "  <thead>\n",
       "    <tr style=\"text-align: right;\">\n",
       "      <th></th>\n",
       "      <th>Sales</th>\n",
       "      <th>Quantity</th>\n",
       "      <th>Discount</th>\n",
       "      <th>Profit</th>\n",
       "    </tr>\n",
       "    <tr>\n",
       "      <th>Segment</th>\n",
       "      <th></th>\n",
       "      <th></th>\n",
       "      <th></th>\n",
       "      <th></th>\n",
       "    </tr>\n",
       "  </thead>\n",
       "  <tbody>\n",
       "    <tr>\n",
       "      <th>Consumer</th>\n",
       "      <td>247196.2460</td>\n",
       "      <td>3651</td>\n",
       "      <td>476.76</td>\n",
       "      <td>-84945.7112</td>\n",
       "    </tr>\n",
       "    <tr>\n",
       "      <th>Corporate</th>\n",
       "      <td>131860.5383</td>\n",
       "      <td>2191</td>\n",
       "      <td>272.00</td>\n",
       "      <td>-44787.2076</td>\n",
       "    </tr>\n",
       "    <tr>\n",
       "      <th>Home Office</th>\n",
       "      <td>89650.3705</td>\n",
       "      <td>1198</td>\n",
       "      <td>150.98</td>\n",
       "      <td>-26398.3669</td>\n",
       "    </tr>\n",
       "  </tbody>\n",
       "</table>\n",
       "</div>"
      ],
      "text/plain": [
       "                   Sales  Quantity  Discount      Profit\n",
       "Segment                                                 \n",
       "Consumer     247196.2460      3651    476.76 -84945.7112\n",
       "Corporate    131860.5383      2191    272.00 -44787.2076\n",
       "Home Office   89650.3705      1198    150.98 -26398.3669"
      ]
     },
     "execution_count": 140,
     "metadata": {},
     "output_type": "execute_result"
    }
   ],
   "source": [
    "df[df['Profit']<0].groupby('Segment').sum()"
   ]
  },
  {
   "cell_type": "markdown",
   "id": "7f0281a5",
   "metadata": {},
   "source": [
    "#### More discount leads to more loss.Profit can be increased by providing fewer discounts."
   ]
  },
  {
   "cell_type": "code",
   "execution_count": 141,
   "id": "678176aa",
   "metadata": {},
   "outputs": [
    {
     "data": {
      "text/html": [
       "<div>\n",
       "<style scoped>\n",
       "    .dataframe tbody tr th:only-of-type {\n",
       "        vertical-align: middle;\n",
       "    }\n",
       "\n",
       "    .dataframe tbody tr th {\n",
       "        vertical-align: top;\n",
       "    }\n",
       "\n",
       "    .dataframe thead th {\n",
       "        text-align: right;\n",
       "    }\n",
       "</style>\n",
       "<table border=\"1\" class=\"dataframe\">\n",
       "  <thead>\n",
       "    <tr style=\"text-align: right;\">\n",
       "      <th></th>\n",
       "      <th>Sales</th>\n",
       "      <th>Quantity</th>\n",
       "      <th>Discount</th>\n",
       "      <th>Profit</th>\n",
       "    </tr>\n",
       "    <tr>\n",
       "      <th>Sub-Category</th>\n",
       "      <th></th>\n",
       "      <th></th>\n",
       "      <th></th>\n",
       "      <th></th>\n",
       "    </tr>\n",
       "  </thead>\n",
       "  <tbody>\n",
       "    <tr>\n",
       "      <th>Accessories</th>\n",
       "      <td>10958.8000</td>\n",
       "      <td>330</td>\n",
       "      <td>18.20</td>\n",
       "      <td>-930.6265</td>\n",
       "    </tr>\n",
       "    <tr>\n",
       "      <th>Appliances</th>\n",
       "      <td>3382.5340</td>\n",
       "      <td>235</td>\n",
       "      <td>53.60</td>\n",
       "      <td>-8629.6412</td>\n",
       "    </tr>\n",
       "    <tr>\n",
       "      <th>Binders</th>\n",
       "      <td>36140.6130</td>\n",
       "      <td>2456</td>\n",
       "      <td>452.40</td>\n",
       "      <td>-38510.4964</td>\n",
       "    </tr>\n",
       "    <tr>\n",
       "      <th>Bookcases</th>\n",
       "      <td>48072.7408</td>\n",
       "      <td>422</td>\n",
       "      <td>37.99</td>\n",
       "      <td>-12152.2060</td>\n",
       "    </tr>\n",
       "    <tr>\n",
       "      <th>Chairs</th>\n",
       "      <td>91988.4560</td>\n",
       "      <td>876</td>\n",
       "      <td>61.40</td>\n",
       "      <td>-9880.8413</td>\n",
       "    </tr>\n",
       "    <tr>\n",
       "      <th>Fasteners</th>\n",
       "      <td>149.2800</td>\n",
       "      <td>55</td>\n",
       "      <td>2.40</td>\n",
       "      <td>-33.1952</td>\n",
       "    </tr>\n",
       "    <tr>\n",
       "      <th>Furnishings</th>\n",
       "      <td>12845.8440</td>\n",
       "      <td>597</td>\n",
       "      <td>88.60</td>\n",
       "      <td>-6490.9134</td>\n",
       "    </tr>\n",
       "    <tr>\n",
       "      <th>Machines</th>\n",
       "      <td>72456.2530</td>\n",
       "      <td>157</td>\n",
       "      <td>25.60</td>\n",
       "      <td>-30118.6682</td>\n",
       "    </tr>\n",
       "    <tr>\n",
       "      <th>Phones</th>\n",
       "      <td>35797.8400</td>\n",
       "      <td>476</td>\n",
       "      <td>46.60</td>\n",
       "      <td>-7530.6235</td>\n",
       "    </tr>\n",
       "    <tr>\n",
       "      <th>Storage</th>\n",
       "      <td>37869.0720</td>\n",
       "      <td>569</td>\n",
       "      <td>32.20</td>\n",
       "      <td>-6426.3038</td>\n",
       "    </tr>\n",
       "    <tr>\n",
       "      <th>Supplies</th>\n",
       "      <td>14067.1760</td>\n",
       "      <td>110</td>\n",
       "      <td>6.60</td>\n",
       "      <td>-3015.6219</td>\n",
       "    </tr>\n",
       "    <tr>\n",
       "      <th>Tables</th>\n",
       "      <td>104978.5460</td>\n",
       "      <td>757</td>\n",
       "      <td>74.15</td>\n",
       "      <td>-32412.1483</td>\n",
       "    </tr>\n",
       "  </tbody>\n",
       "</table>\n",
       "</div>"
      ],
      "text/plain": [
       "                    Sales  Quantity  Discount      Profit\n",
       "Sub-Category                                             \n",
       "Accessories    10958.8000       330     18.20   -930.6265\n",
       "Appliances      3382.5340       235     53.60  -8629.6412\n",
       "Binders        36140.6130      2456    452.40 -38510.4964\n",
       "Bookcases      48072.7408       422     37.99 -12152.2060\n",
       "Chairs         91988.4560       876     61.40  -9880.8413\n",
       "Fasteners        149.2800        55      2.40    -33.1952\n",
       "Furnishings    12845.8440       597     88.60  -6490.9134\n",
       "Machines       72456.2530       157     25.60 -30118.6682\n",
       "Phones         35797.8400       476     46.60  -7530.6235\n",
       "Storage        37869.0720       569     32.20  -6426.3038\n",
       "Supplies       14067.1760       110      6.60  -3015.6219\n",
       "Tables        104978.5460       757     74.15 -32412.1483"
      ]
     },
     "execution_count": 141,
     "metadata": {},
     "output_type": "execute_result"
    }
   ],
   "source": [
    "df[df['Profit']<0].groupby('Sub-Category').sum()"
   ]
  },
  {
   "cell_type": "markdown",
   "id": "918e644b",
   "metadata": {},
   "source": [
    "#### More loss is observed in Binders, Machines and Tables categories.\n",
    "#### Discount in Binders is very high thus leading to more loss.\n",
    "#### It's better to give more discounts on those items which are less sold to increase their sales.\n",
    "#### Less discounts should be given on the items that has high sales.\n"
   ]
  },
  {
   "cell_type": "code",
   "execution_count": 144,
   "id": "05723767",
   "metadata": {},
   "outputs": [
    {
     "data": {
      "text/plain": [
       "Binders        613\n",
       "Chairs         235\n",
       "Tables         203\n",
       "Furnishings    167\n",
       "Storage        161\n",
       "Phones         136\n",
       "Bookcases      109\n",
       "Accessories     91\n",
       "Appliances      67\n",
       "Machines        44\n",
       "Supplies        33\n",
       "Fasteners       12\n",
       "Name: Sub-Category, dtype: int64"
      ]
     },
     "execution_count": 144,
     "metadata": {},
     "output_type": "execute_result"
    }
   ],
   "source": [
    "df[df['Profit']<0]['Sub-Category'].value_counts()"
   ]
  },
  {
   "cell_type": "code",
   "execution_count": 148,
   "id": "5908339e",
   "metadata": {},
   "outputs": [
    {
     "data": {
      "text/html": [
       "<div>\n",
       "<style scoped>\n",
       "    .dataframe tbody tr th:only-of-type {\n",
       "        vertical-align: middle;\n",
       "    }\n",
       "\n",
       "    .dataframe tbody tr th {\n",
       "        vertical-align: top;\n",
       "    }\n",
       "\n",
       "    .dataframe thead th {\n",
       "        text-align: right;\n",
       "    }\n",
       "</style>\n",
       "<table border=\"1\" class=\"dataframe\">\n",
       "  <thead>\n",
       "    <tr style=\"text-align: right;\">\n",
       "      <th></th>\n",
       "      <th>Sales</th>\n",
       "      <th>Quantity</th>\n",
       "      <th>Discount</th>\n",
       "      <th>Profit</th>\n",
       "    </tr>\n",
       "    <tr>\n",
       "      <th>City</th>\n",
       "      <th></th>\n",
       "      <th></th>\n",
       "      <th></th>\n",
       "      <th></th>\n",
       "    </tr>\n",
       "  </thead>\n",
       "  <tbody>\n",
       "    <tr>\n",
       "      <th>Philadelphia</th>\n",
       "      <td>70460.5510</td>\n",
       "      <td>892</td>\n",
       "      <td>115.30</td>\n",
       "      <td>-19590.7411</td>\n",
       "    </tr>\n",
       "    <tr>\n",
       "      <th>Houston</th>\n",
       "      <td>37640.7304</td>\n",
       "      <td>683</td>\n",
       "      <td>104.14</td>\n",
       "      <td>-14785.3668</td>\n",
       "    </tr>\n",
       "    <tr>\n",
       "      <th>Chicago</th>\n",
       "      <td>19910.0120</td>\n",
       "      <td>541</td>\n",
       "      <td>88.20</td>\n",
       "      <td>-11120.6271</td>\n",
       "    </tr>\n",
       "    <tr>\n",
       "      <th>San Antonio</th>\n",
       "      <td>17395.1450</td>\n",
       "      <td>139</td>\n",
       "      <td>17.10</td>\n",
       "      <td>-7831.0254</td>\n",
       "    </tr>\n",
       "    <tr>\n",
       "      <th>Lancaster</th>\n",
       "      <td>7699.2420</td>\n",
       "      <td>71</td>\n",
       "      <td>9.40</td>\n",
       "      <td>-7632.4946</td>\n",
       "    </tr>\n",
       "  </tbody>\n",
       "</table>\n",
       "</div>"
      ],
      "text/plain": [
       "                   Sales  Quantity  Discount      Profit\n",
       "City                                                    \n",
       "Philadelphia  70460.5510       892    115.30 -19590.7411\n",
       "Houston       37640.7304       683    104.14 -14785.3668\n",
       "Chicago       19910.0120       541     88.20 -11120.6271\n",
       "San Antonio   17395.1450       139     17.10  -7831.0254\n",
       "Lancaster      7699.2420        71      9.40  -7632.4946"
      ]
     },
     "execution_count": 148,
     "metadata": {},
     "output_type": "execute_result"
    }
   ],
   "source": [
    "df[df['Profit']<0].groupby('City').sum().sort_values('Profit', ascending=True).head()"
   ]
  },
  {
   "cell_type": "markdown",
   "id": "2d5804ee",
   "metadata": {},
   "source": [
    "#### The above shown cities have very high loss."
   ]
  },
  {
   "cell_type": "code",
   "execution_count": 151,
   "id": "e5f793a2",
   "metadata": {},
   "outputs": [
    {
     "data": {
      "text/html": [
       "<div>\n",
       "<style scoped>\n",
       "    .dataframe tbody tr th:only-of-type {\n",
       "        vertical-align: middle;\n",
       "    }\n",
       "\n",
       "    .dataframe tbody tr th {\n",
       "        vertical-align: top;\n",
       "    }\n",
       "\n",
       "    .dataframe thead th {\n",
       "        text-align: right;\n",
       "    }\n",
       "</style>\n",
       "<table border=\"1\" class=\"dataframe\">\n",
       "  <thead>\n",
       "    <tr style=\"text-align: right;\">\n",
       "      <th></th>\n",
       "      <th>Sales</th>\n",
       "      <th>Quantity</th>\n",
       "      <th>Discount</th>\n",
       "      <th>Profit</th>\n",
       "    </tr>\n",
       "    <tr>\n",
       "      <th>Category</th>\n",
       "      <th></th>\n",
       "      <th></th>\n",
       "      <th></th>\n",
       "      <th></th>\n",
       "    </tr>\n",
       "  </thead>\n",
       "  <tbody>\n",
       "    <tr>\n",
       "      <th>Furniture</th>\n",
       "      <td>361.184295</td>\n",
       "      <td>3.714286</td>\n",
       "      <td>0.367143</td>\n",
       "      <td>-85.344690</td>\n",
       "    </tr>\n",
       "    <tr>\n",
       "      <th>Office Supplies</th>\n",
       "      <td>103.395796</td>\n",
       "      <td>3.865688</td>\n",
       "      <td>0.617607</td>\n",
       "      <td>-63.899840</td>\n",
       "    </tr>\n",
       "    <tr>\n",
       "      <th>Technology</th>\n",
       "      <td>439.899974</td>\n",
       "      <td>3.553506</td>\n",
       "      <td>0.333579</td>\n",
       "      <td>-142.361322</td>\n",
       "    </tr>\n",
       "  </tbody>\n",
       "</table>\n",
       "</div>"
      ],
      "text/plain": [
       "                      Sales  Quantity  Discount      Profit\n",
       "Category                                                   \n",
       "Furniture        361.184295  3.714286  0.367143  -85.344690\n",
       "Office Supplies  103.395796  3.865688  0.617607  -63.899840\n",
       "Technology       439.899974  3.553506  0.333579 -142.361322"
      ]
     },
     "execution_count": 151,
     "metadata": {},
     "output_type": "execute_result"
    }
   ],
   "source": [
    "df[df['Profit']<0].groupby('Category').mean()"
   ]
  },
  {
   "cell_type": "markdown",
   "id": "0049978b",
   "metadata": {},
   "source": [
    "#### From this, we can see that Technogy category has more loss."
   ]
  },
  {
   "cell_type": "code",
   "execution_count": 156,
   "id": "7bcb1eee",
   "metadata": {},
   "outputs": [
    {
     "data": {
      "text/html": [
       "<div>\n",
       "<style scoped>\n",
       "    .dataframe tbody tr th:only-of-type {\n",
       "        vertical-align: middle;\n",
       "    }\n",
       "\n",
       "    .dataframe tbody tr th {\n",
       "        vertical-align: top;\n",
       "    }\n",
       "\n",
       "    .dataframe thead th {\n",
       "        text-align: right;\n",
       "    }\n",
       "</style>\n",
       "<table border=\"1\" class=\"dataframe\">\n",
       "  <thead>\n",
       "    <tr style=\"text-align: right;\">\n",
       "      <th></th>\n",
       "      <th>Sales</th>\n",
       "      <th>Quantity</th>\n",
       "      <th>Discount</th>\n",
       "      <th>Profit</th>\n",
       "    </tr>\n",
       "  </thead>\n",
       "  <tbody>\n",
       "    <tr>\n",
       "      <th>Sales</th>\n",
       "      <td>1.000000</td>\n",
       "      <td>0.200795</td>\n",
       "      <td>-0.028190</td>\n",
       "      <td>0.479064</td>\n",
       "    </tr>\n",
       "    <tr>\n",
       "      <th>Quantity</th>\n",
       "      <td>0.200795</td>\n",
       "      <td>1.000000</td>\n",
       "      <td>0.008623</td>\n",
       "      <td>0.066253</td>\n",
       "    </tr>\n",
       "    <tr>\n",
       "      <th>Discount</th>\n",
       "      <td>-0.028190</td>\n",
       "      <td>0.008623</td>\n",
       "      <td>1.000000</td>\n",
       "      <td>-0.219487</td>\n",
       "    </tr>\n",
       "    <tr>\n",
       "      <th>Profit</th>\n",
       "      <td>0.479064</td>\n",
       "      <td>0.066253</td>\n",
       "      <td>-0.219487</td>\n",
       "      <td>1.000000</td>\n",
       "    </tr>\n",
       "  </tbody>\n",
       "</table>\n",
       "</div>"
      ],
      "text/plain": [
       "             Sales  Quantity  Discount    Profit\n",
       "Sales     1.000000  0.200795 -0.028190  0.479064\n",
       "Quantity  0.200795  1.000000  0.008623  0.066253\n",
       "Discount -0.028190  0.008623  1.000000 -0.219487\n",
       "Profit    0.479064  0.066253 -0.219487  1.000000"
      ]
     },
     "execution_count": 156,
     "metadata": {},
     "output_type": "execute_result"
    }
   ],
   "source": [
    "df.corr()"
   ]
  },
  {
   "cell_type": "code",
   "execution_count": 157,
   "id": "c1be5ff0",
   "metadata": {},
   "outputs": [
    {
     "data": {
      "text/html": [
       "<div>\n",
       "<style scoped>\n",
       "    .dataframe tbody tr th:only-of-type {\n",
       "        vertical-align: middle;\n",
       "    }\n",
       "\n",
       "    .dataframe tbody tr th {\n",
       "        vertical-align: top;\n",
       "    }\n",
       "\n",
       "    .dataframe thead th {\n",
       "        text-align: right;\n",
       "    }\n",
       "</style>\n",
       "<table border=\"1\" class=\"dataframe\">\n",
       "  <thead>\n",
       "    <tr style=\"text-align: right;\">\n",
       "      <th></th>\n",
       "      <th>Sales</th>\n",
       "      <th>Quantity</th>\n",
       "      <th>Discount</th>\n",
       "      <th>Profit</th>\n",
       "    </tr>\n",
       "    <tr>\n",
       "      <th>Segment</th>\n",
       "      <th></th>\n",
       "      <th></th>\n",
       "      <th></th>\n",
       "      <th></th>\n",
       "    </tr>\n",
       "  </thead>\n",
       "  <tbody>\n",
       "    <tr>\n",
       "      <th>Consumer</th>\n",
       "      <td>1.161401e+06</td>\n",
       "      <td>19521</td>\n",
       "      <td>820.91</td>\n",
       "      <td>134119.2092</td>\n",
       "    </tr>\n",
       "    <tr>\n",
       "      <th>Corporate</th>\n",
       "      <td>7.061464e+05</td>\n",
       "      <td>11608</td>\n",
       "      <td>477.85</td>\n",
       "      <td>91979.1340</td>\n",
       "    </tr>\n",
       "    <tr>\n",
       "      <th>Home Office</th>\n",
       "      <td>4.296531e+05</td>\n",
       "      <td>6744</td>\n",
       "      <td>262.33</td>\n",
       "      <td>60298.6785</td>\n",
       "    </tr>\n",
       "  </tbody>\n",
       "</table>\n",
       "</div>"
      ],
      "text/plain": [
       "                    Sales  Quantity  Discount       Profit\n",
       "Segment                                                   \n",
       "Consumer     1.161401e+06     19521    820.91  134119.2092\n",
       "Corporate    7.061464e+05     11608    477.85   91979.1340\n",
       "Home Office  4.296531e+05      6744    262.33   60298.6785"
      ]
     },
     "execution_count": 157,
     "metadata": {},
     "output_type": "execute_result"
    }
   ],
   "source": [
    "df.groupby('Segment').sum()"
   ]
  },
  {
   "cell_type": "markdown",
   "id": "a59a17e4",
   "metadata": {},
   "source": [
    "#### Sales in the consumer segment are less compared to other segments, but the profit is high.\n",
    "#### So if we can increase sales in consumer segment by advertisements or any other technique, profit will be increased for sure."
   ]
  },
  {
   "cell_type": "markdown",
   "id": "ee781deb",
   "metadata": {},
   "source": [
    "### Data Visualization"
   ]
  },
  {
   "cell_type": "code",
   "execution_count": 165,
   "id": "1ca71a15",
   "metadata": {},
   "outputs": [
    {
     "data": {
      "image/png": "[encoded data removed]",
      "text/plain": [
       "<Figure size 864x576 with 1 Axes>"
      ]
     },
     "metadata": {
      "needs_background": "light"
     },
     "output_type": "display_data"
    }
   ],
   "source": [
    "fig, ax = plt.subplots(figsize=(12, 8))\n",
    "sns.barplot(x='Sub-Category', y='Sales',data=df,ax=ax)\n",
    "plt.tight_layout()"
   ]
  },
  {
   "cell_type": "markdown",
   "id": "8121ff20",
   "metadata": {},
   "source": [
    "#### Sales for Fasteners, Labels, Art, Paper and Envelopes is very low.\n",
    "\n"
   ]
  },
  {
   "cell_type": "code",
   "execution_count": 166,
   "id": "34be5e14",
   "metadata": {},
   "outputs": [
    {
     "data": {
      "image/png": "[encoded data removed]",
      "text/plain": [
       "<Figure size 864x576 with 1 Axes>"
      ]
     },
     "metadata": {
      "needs_background": "light"
     },
     "output_type": "display_data"
    }
   ],
   "source": [
    "fig, ax = plt.subplots(figsize=(12, 8))\n",
    "sns.barplot(x='Sub-Category', y='Discount',data=df,ax=ax)\n",
    "plt.tight_layout()"
   ]
  },
  {
   "cell_type": "code",
   "execution_count": 172,
   "id": "404d6173",
   "metadata": {},
   "outputs": [
    {
     "data": {
      "image/png": "[encoded data removed]",
      "text/plain": [
       "<Figure size 720x576 with 1 Axes>"
      ]
     },
     "metadata": {
      "needs_background": "light"
     },
     "output_type": "display_data"
    }
   ],
   "source": [
    "fig, ax = plt.subplots(figsize=(10,8))\n",
    "sns.barplot(x='Ship Mode', y='Sales',data=df,ax=ax,estimator=sum)\n",
    "plt.tight_layout()"
   ]
  },
  {
   "cell_type": "markdown",
   "id": "230aa992",
   "metadata": {},
   "source": [
    "#### Here we observe that the sales are high if the ship mode is standard class."
   ]
  },
  {
   "cell_type": "code",
   "execution_count": 176,
   "id": "bd15aa2d",
   "metadata": {},
   "outputs": [
    {
     "name": "stderr",
     "output_type": "stream",
     "text": [
      "D:\\Users\\anaconda3\\lib\\site-packages\\seaborn\\_decorators.py:36: FutureWarning: Pass the following variable as a keyword arg: x. From version 0.12, the only valid positional argument will be `data`, and passing other arguments without an explicit keyword will result in an error or misinterpretation.\n",
      "  warnings.warn(\n"
     ]
    },
    {
     "data": {
      "image/png": "[encoded data removed]",
      "text/plain": [
       "<Figure size 720x360 with 1 Axes>"
      ]
     },
     "metadata": {
      "needs_background": "light"
     },
     "output_type": "display_data"
    }
   ],
   "source": [
    "fig, ax = plt.subplots(figsize=(10,5))\n",
    "sns.countplot('Segment',data=df,ax=ax)\n",
    "plt.tight_layout()"
   ]
  },
  {
   "cell_type": "markdown",
   "id": "b3920faa",
   "metadata": {},
   "source": [
    "#### In the Home Office Segment, we observe that the count is less. So improvement is required in this segment."
   ]
  },
  {
   "cell_type": "code",
   "execution_count": 178,
   "id": "be56b7a9",
   "metadata": {},
   "outputs": [
    {
     "name": "stderr",
     "output_type": "stream",
     "text": [
      "D:\\Users\\anaconda3\\lib\\site-packages\\seaborn\\_decorators.py:36: FutureWarning: Pass the following variable as a keyword arg: x. From version 0.12, the only valid positional argument will be `data`, and passing other arguments without an explicit keyword will result in an error or misinterpretation.\n",
      "  warnings.warn(\n"
     ]
    },
    {
     "data": {
      "image/png": "[encoded data removed]",
      "text/plain": [
       "<Figure size 720x360 with 1 Axes>"
      ]
     },
     "metadata": {
      "needs_background": "light"
     },
     "output_type": "display_data"
    }
   ],
   "source": [
    "fig, ax = plt.subplots(figsize=(10,5))\n",
    "sns.countplot('Region',data=df,ax=ax)\n",
    "plt.tight_layout()"
   ]
  },
  {
   "cell_type": "markdown",
   "id": "e7ef16ae",
   "metadata": {},
   "source": [
    "#### Here we can see that the south region needs more improvement compared to others."
   ]
  },
  {
   "cell_type": "code",
   "execution_count": 80,
   "id": "4093c8ee",
   "metadata": {},
   "outputs": [
    {
     "data": {
      "text/plain": [
       "Office Supplies    6012\n",
       "Furniture          2118\n",
       "Technology         1847\n",
       "Name: Category, dtype: int64"
      ]
     },
     "execution_count": 80,
     "metadata": {},
     "output_type": "execute_result"
    }
   ],
   "source": [
    "df['Category'].value_counts()"
   ]
  },
  {
   "cell_type": "code",
   "execution_count": 188,
   "id": "3cc85856",
   "metadata": {},
   "outputs": [
    {
     "data": {
      "text/plain": [
       "<AxesSubplot:xlabel='Category', ylabel='Sales'>"
      ]
     },
     "execution_count": 188,
     "metadata": {},
     "output_type": "execute_result"
    },
    {
     "data": {
      "image/png": "[encoded data removed]",
      "text/plain": [
       "<Figure size 720x576 with 1 Axes>"
      ]
     },
     "metadata": {
      "needs_background": "light"
     },
     "output_type": "display_data"
    }
   ],
   "source": [
    "sns.barplot(x='Category',y='Sales', data=df,estimator=sum)"
   ]
  },
  {
   "cell_type": "code",
   "execution_count": 191,
   "id": "89db9e37",
   "metadata": {},
   "outputs": [
    {
     "data": {
      "text/plain": [
       "<AxesSubplot:xlabel='Category', ylabel='Profit'>"
      ]
     },
     "execution_count": 191,
     "metadata": {},
     "output_type": "execute_result"
    },
    {
     "data": {
      "image/png": "[encoded data removed]",
      "text/plain": [
       "<Figure size 720x576 with 1 Axes>"
      ]
     },
     "metadata": {
      "needs_background": "light"
     },
     "output_type": "display_data"
    }
   ],
   "source": [
    "sns.barplot(x='Category',y='Profit',data=df,estimator=sum)"
   ]
  },
  {
   "cell_type": "markdown",
   "id": "21b2d303",
   "metadata": {},
   "source": [
    "#### Profit is very less in Furniture category."
   ]
  },
  {
   "cell_type": "code",
   "execution_count": 193,
   "id": "f3f97d03",
   "metadata": {},
   "outputs": [
    {
     "data": {
      "text/plain": [
       "<AxesSubplot:xlabel='Category', ylabel='Discount'>"
      ]
     },
     "execution_count": 193,
     "metadata": {},
     "output_type": "execute_result"
    },
    {
     "data": {
      "image/png": "[encoded data removed]",
      "text/plain": [
       "<Figure size 720x576 with 1 Axes>"
      ]
     },
     "metadata": {
      "needs_background": "light"
     },
     "output_type": "display_data"
    }
   ],
   "source": [
    "sns.barplot(x='Category',y='Discount',data=df,estimator=sum)"
   ]
  },
  {
   "cell_type": "code",
   "execution_count": 57,
   "id": "08346edf",
   "metadata": {},
   "outputs": [],
   "source": [
    "furniture=df[df['Category']=='Furniture']"
   ]
  },
  {
   "cell_type": "code",
   "execution_count": 189,
   "id": "14c25c93",
   "metadata": {},
   "outputs": [
    {
     "data": {
      "text/plain": [
       "[Text(0.5, 1.0, 'Furniture')]"
      ]
     },
     "execution_count": 189,
     "metadata": {},
     "output_type": "execute_result"
    },
    {
     "data": {
      "image/png": "[encoded data removed]",
      "text/plain": [
       "<Figure size 720x576 with 1 Axes>"
      ]
     },
     "metadata": {
      "needs_background": "light"
     },
     "output_type": "display_data"
    }
   ],
   "source": [
    "f=sns.barplot(x='Sub-Category',y='Sales',data=furniture,estimator=sum)\n",
    "f.set(title='Furniture')"
   ]
  },
  {
   "cell_type": "markdown",
   "id": "550bdbd6",
   "metadata": {},
   "source": [
    "#### Sales of furnishings is very less"
   ]
  },
  {
   "cell_type": "code",
   "execution_count": 59,
   "id": "2d4a6e99",
   "metadata": {},
   "outputs": [],
   "source": [
    "off_supp=df[df['Category']=='Office Supplies']"
   ]
  },
  {
   "cell_type": "code",
   "execution_count": 195,
   "id": "66f1e1f5",
   "metadata": {},
   "outputs": [
    {
     "data": {
      "image/png": "[encoded data removed]",
      "text/plain": [
       "<Figure size 720x576 with 1 Axes>"
      ]
     },
     "metadata": {
      "needs_background": "light"
     },
     "output_type": "display_data"
    }
   ],
   "source": [
    "o=sns.barplot(x='Sub-Category',y='Sales',data=off_supp,estimator=sum)\n",
    "o.set(title='Office Suppliers')\n",
    "plt.tight_layout()"
   ]
  },
  {
   "cell_type": "markdown",
   "id": "bcf4053e",
   "metadata": {},
   "source": [
    "#### In office suppliers category, sales of Fasteners sub category is very less. It should be impoved."
   ]
  },
  {
   "cell_type": "code",
   "execution_count": 61,
   "id": "604bab22",
   "metadata": {},
   "outputs": [],
   "source": [
    "tech=df[df['Category']=='Technology']"
   ]
  },
  {
   "cell_type": "code",
   "execution_count": 197,
   "id": "62cd5f32",
   "metadata": {},
   "outputs": [
    {
     "data": {
      "text/plain": [
       "[Text(0.5, 1.0, 'Technology')]"
      ]
     },
     "execution_count": 197,
     "metadata": {},
     "output_type": "execute_result"
    },
    {
     "data": {
      "image/png": "[encoded data removed]",
      "text/plain": [
       "<Figure size 720x576 with 1 Axes>"
      ]
     },
     "metadata": {
      "needs_background": "light"
     },
     "output_type": "display_data"
    }
   ],
   "source": [
    "t=sns.barplot(x='Sub-Category',y='Sales',data=tech,estimator=sum)\n",
    "t.set(title='Technology')"
   ]
  },
  {
   "cell_type": "code",
   "execution_count": 198,
   "id": "315938d0",
   "metadata": {},
   "outputs": [
    {
     "data": {
      "text/plain": [
       "<AxesSubplot:xlabel='Category', ylabel='Quantity'>"
      ]
     },
     "execution_count": 198,
     "metadata": {},
     "output_type": "execute_result"
    },
    {
     "data": {
      "image/png": "[encoded data removed]",
      "text/plain": [
       "<Figure size 720x576 with 1 Axes>"
      ]
     },
     "metadata": {
      "needs_background": "light"
     },
     "output_type": "display_data"
    }
   ],
   "source": [
    "sns.barplot(x='Category',y='Quantity',data=df,estimator=sum)"
   ]
  },
  {
   "cell_type": "markdown",
   "id": "bc96054b",
   "metadata": {},
   "source": [
    "### Heatmap"
   ]
  },
  {
   "cell_type": "code",
   "execution_count": 187,
   "id": "b3040fbd",
   "metadata": {},
   "outputs": [
    {
     "data": {
      "text/plain": [
       "<AxesSubplot:>"
      ]
     },
     "execution_count": 187,
     "metadata": {},
     "output_type": "execute_result"
    },
    {
     "data": {
      "image/png": "[encoded data removed]",
      "text/plain": [
       "<Figure size 720x576 with 2 Axes>"
      ]
     },
     "metadata": {
      "needs_background": "light"
     },
     "output_type": "display_data"
    }
   ],
   "source": [
    "sns.heatmap(df.corr(),cmap='Greens',annot=True)"
   ]
  },
  {
   "cell_type": "markdown",
   "id": "62d5503e",
   "metadata": {},
   "source": [
    "#### From the Heatmap it can be concluded that,\n",
    "#### Sales and Profit are Moderately Correlated.\n",
    "#### Discount and Profit are Negatively Correlated"
   ]
  },
  {
   "cell_type": "markdown",
   "id": "072f06cf",
   "metadata": {},
   "source": [
    "### Overall Analysis\n",
    "#### Some cities have less sales. Lack of awareness can be the reason for this, hence advertising in those cities might help to improve sales.\n",
    "#### Sales are less in Home Office segment and thus it needs to be improved.\n",
    "#### The main reason that leads to loss is discount. Some areas lead to loss due to more discounts and some areas lead to fewer sales due to fewer discounts. This needs to be improved.\n",
    "#### It's better to give more discounts on those items which are less sold to increase their sales."
   ]
  },
  {
   "cell_type": "markdown",
   "id": "a6a3c6c4",
   "metadata": {},
   "source": [
    "## Thank you!!"
   ]
  }
 ],
 "metadata": {
  "kernelspec": {
   "display_name": "Python 3 (ipykernel)",
   "language": "python",
   "name": "python3"
  },
  "language_info": {
   "codemirror_mode": {
    "name": "ipython",
    "version": 3
   },
   "file_extension": ".py",
   "mimetype": "text/x-python",
   "name": "python",
   "nbconvert_exporter": "python",
   "pygments_lexer": "ipython3",
   "version": "3.9.12"
  }
 },
 "nbformat": 4,
 "nbformat_minor": 5
}
